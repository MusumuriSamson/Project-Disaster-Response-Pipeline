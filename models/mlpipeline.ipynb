{
 "cells": [
  {
   "cell_type": "code",
   "execution_count": 98,
   "metadata": {},
   "outputs": [],
   "source": [
    "import sys\n",
    "import pandas as pd\n",
    "import warnings\n",
    "import sqlite3\n",
    "import re\n",
    "from nltk.tokenize import word_tokenize\n",
    "from nltk.stem import WordNetLemmatizer\n",
    "warnings.filterwarnings('ignore')\n"
   ]
  },
  {
   "cell_type": "code",
   "execution_count": 99,
   "metadata": {},
   "outputs": [],
   "source": [
    "def load_data(file_path):\n",
    "    \"\"\"\n",
    "    :param file_path: This variable takes in the filepath of the database to read.\n",
    "    :return: The function returns the table as a dataframe\n",
    "\n",
    "    \"\"\"\n",
    "\n",
    "    conn = sqlite3.connect(file_path)\n",
    "\n",
    "    df = pd.read_sql_query(\"SELECT * from Disaster_data\", con=conn)\n",
    "\n",
    "    X = df['message'].values\n",
    "    Y = df.iloc[:, 4:]\n",
    "    category_names = Y.columns\n",
    "\n",
    "    conn.close()\n",
    "\n",
    "    return X, Y, category_names\n"
   ]
  },
  {
   "cell_type": "code",
   "execution_count": 114,
   "metadata": {},
   "outputs": [],
   "source": [
    "def tokenize(text):\n",
    "    \"\"\"\n",
    "    :param text: takes in a string value and using nltk methods normalizes,tokenizes and lemmatizes it.\n",
    "    :return:\n",
    "    \n",
    "    \"\"\"\n",
    "\n",
    "    # Find all urls if any exists in the text and replace it with the word 'url_placeholder'\n",
    "    url_format = 'http[s]?://(?:[a-zA-Z]|[0-9]|[$-_@.&+]|[!*\\(\\),]|(?:%[0-9a-fA-F][0-9a-fA-F]))+'\n",
    "\n",
    "    all_urls = re.findall(url_format, text)\n",
    "\n",
    "    for u in all_urls:\n",
    "        text = text.replace(u, 'url_placeholder')\n",
    "\n",
    "    # Tokenize the text\n",
    "    tokenized_text = word_tokenize(text.lower())\n",
    "\n",
    "    # Lemmatize the text\n",
    "    lemmatizer = WordNetLemmatizer()\n",
    "\n",
    "    clean_tokens = []\n",
    "\n",
    "    for token in tokenized_text:\n",
    "        lemmatized_text = lemmatizer.lemmatize(token).strip()\n",
    "        clean_tokens.append(lemmatized_text)\n",
    "\n",
    "    return clean_tokens\n"
   ]
  },
  {
   "cell_type": "code",
   "execution_count": null,
   "metadata": {},
   "outputs": [],
   "source": [
    "def build_model():\n",
    "    pass\n"
   ]
  },
  {
   "cell_type": "code",
   "execution_count": null,
   "metadata": {},
   "outputs": [],
   "source": []
  }
 ],
 "metadata": {
  "kernelspec": {
   "display_name": "Python 3",
   "language": "python",
   "name": "python3"
  },
  "language_info": {
   "codemirror_mode": {
    "name": "ipython",
    "version": 3
   },
   "file_extension": ".py",
   "mimetype": "text/x-python",
   "name": "python",
   "nbconvert_exporter": "python",
   "pygments_lexer": "ipython3",
   "version": "3.8.2"
  },
  "orig_nbformat": 4
 },
 "nbformat": 4,
 "nbformat_minor": 2
}
